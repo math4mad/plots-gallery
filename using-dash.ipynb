{
  "cells": [
    {
      "cell_type": "raw",
      "metadata": {},
      "source": [
        "---\n",
        "title: \"Using Dash \"\n",
        "author: math4mad\n",
        "code-fold: true\n",
        "---"
      ],
      "id": "71b9877e"
    },
    {
      "cell_type": "code",
      "metadata": {},
      "source": [
        "using Dash\n",
        "using DataFrames, CSV, PlotlyJS, RDatasets\n",
        "\n",
        "iris = RDatasets.dataset(\"datasets\", \"iris\")\n",
        "\n",
        "Plot(iris, x=:SepalLength, y=:SepalWidth, mode=\"markers\", marker_size=8, group=:Species)"
      ],
      "id": "6736e4fb",
      "execution_count": null,
      "outputs": []
    }
  ],
  "metadata": {
    "kernelspec": {
      "name": "julia-1.9",
      "language": "julia",
      "display_name": "Julia 1.9.0"
    }
  },
  "nbformat": 4,
  "nbformat_minor": 5
}
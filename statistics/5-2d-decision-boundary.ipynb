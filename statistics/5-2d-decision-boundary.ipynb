{
  "cells": [
    {
      "cell_type": "raw",
      "metadata": {},
      "source": [
        "---\n",
        "title: \"5-2d-decision-boundary\"\n",
        "author: \"math4mads\"\n",
        "code-fold: true\n",
        "---"
      ],
      "id": "a6bdef84"
    },
    {
      "cell_type": "markdown",
      "metadata": {},
      "source": [
        "```julia\n",
        "\"\"\"\n",
        "probml page 84,figure 2.13\n",
        "概率值预测方法 参见: https://discourse.julialang.org/t/extracting-values-from-univariatefinite/62794/3\n",
        "\"\"\"\n",
        "```\n"
      ],
      "id": "53ca5124"
    },
    {
      "cell_type": "code",
      "metadata": {},
      "source": [
        "import MLJ:fit!,predict,predict_mode,predict_mean,machine\n",
        "using MLJ,GLMakie,Random,DataFrames\n",
        "\n",
        "iris = load_iris(); \n",
        "iris =DataFrame(iris);\n",
        "nums=100\n",
        "\n",
        "iris[!, :target] = [r.target == \"virginica\" ? 1.0 : 0.0 for r in eachrow(iris)]\n",
        "iris=coerce(iris, :target=> Multiclass )\n",
        "gdf=groupby(iris, :target)\n",
        "X,y=iris[:,3:4],iris[:,:target]\n",
        "\n",
        "cats=levels(y)\n",
        "\n",
        "function boundary_data(df,;n=nums)\n",
        "    n1=n2=n\n",
        "    xlow,xhigh=extrema(df[:,1])\n",
        "    ylow,yhigh=extrema(df[:,2])\n",
        "    tx = LinRange(xlow,xhigh,n1)\n",
        "    ty = LinRange(ylow,yhigh,n2)\n",
        "    x_test = mapreduce(collect, hcat, Iterators.product(tx, ty));\n",
        "    x_test=MLJ.table(x_test')\n",
        "    return tx,ty,x_test\n",
        "end\n",
        "tx,ty,x_test=boundary_data(X)\n",
        "\n",
        "\n",
        "function eval_model()\n",
        "    classifier = @load LogisticClassifier pkg=MLJLinearModels\n",
        "    mach = fit!(machine(classifier(), X, y))\n",
        "    \n",
        "end\n",
        "\n",
        "yhat,probs_res=eval_model()"
      ],
      "id": "131c3c6c",
      "execution_count": null,
      "outputs": []
    }
  ],
  "metadata": {
    "kernelspec": {
      "name": "julia-1.9",
      "language": "julia",
      "display_name": "Julia 1.9.0"
    }
  },
  "nbformat": 4,
  "nbformat_minor": 5
}